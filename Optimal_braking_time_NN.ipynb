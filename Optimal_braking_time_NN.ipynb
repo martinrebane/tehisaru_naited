{
  "nbformat": 4,
  "nbformat_minor": 0,
  "metadata": {
    "colab": {
      "provenance": [],
      "authorship_tag": "ABX9TyO8Y/tWlW+f6GphqGZGV1/n",
      "include_colab_link": true
    },
    "kernelspec": {
      "name": "python3",
      "display_name": "Python 3"
    }
  },
  "cells": [
    {
      "cell_type": "markdown",
      "metadata": {
        "id": "view-in-github",
        "colab_type": "text"
      },
      "source": [
        "<a href=\"https://colab.research.google.com/github/martinrebane/tehisaru_naited/blob/main/Optimal_braking_time_NN.ipynb\" target=\"_parent\"><img src=\"https://colab.research.google.com/assets/colab-badge.svg\" alt=\"Open In Colab\"/></a>"
      ]
    },
    {
      "cell_type": "markdown",
      "metadata": {
        "id": "13IL9UJnKtno"
      },
      "source": [
        "# A Simple Neural Network\n",
        "\n",
        "Now let's try to have IseAuto use a neural network for estimating the time it needs to use for smooth braking. We will input initial speed and final speed and expect the network to learn braking time. We are not going to use acceleration any more as this in computed property. But our dataset (which we use for training the neural network) is built so that the acceleration is -0.4 m/s^2."
      ]
    },
    {
      "cell_type": "code",
      "metadata": {
        "id": "bvFOy9S8KkK4"
      },
      "source": [
        "import torch\n",
        "from torch import nn\n",
        "import torch.nn.functional as F"
      ],
      "execution_count": null,
      "outputs": []
    },
    {
      "cell_type": "code",
      "metadata": {
        "id": "nBSSWGGRK7gw"
      },
      "source": [
        "# each pytorch NN will extends nn.Module\n",
        "class BrakingTimeNetwork(nn.Module):\n",
        "  def __init__(self):\n",
        "    super().__init__()\n",
        "    # millised kihid on olemas\n",
        "    self.my_module = nn.Sequential(nn.Linear(in_features=2, out_features=5),\n",
        "                               nn.ReLU(),\n",
        "                               nn.Linear(in_features=5, out_features=12),\n",
        "                               nn.ReLU(),\n",
        "                               nn.Linear(in_features=12, out_features=7),\n",
        "                               nn.ReLU(),\n",
        "                               nn.Linear(in_features=7, out_features=3),\n",
        "                               nn.ReLU(),\n",
        "                               nn.Linear(in_features=3, out_features=1)\n",
        "                               )\n",
        "\n",
        "  def forward(self, data):\n",
        "    # kuidas neid kihte käivitada\n",
        "    return self.my_module(data)\n",
        "\n",
        "\n",
        "\n",
        "\n"
      ],
      "execution_count": null,
      "outputs": []
    },
    {
      "cell_type": "code",
      "metadata": {
        "id": "tfreiJOhNWTB"
      },
      "source": [
        "# our model\n",
        "model = BrakingTimeNetwork()"
      ],
      "execution_count": null,
      "outputs": []
    },
    {
      "cell_type": "code",
      "metadata": {
        "id": "wXZx1W-JNqDJ"
      },
      "source": [
        "# initial speed and final speed\n",
        "speed_data = torch.tensor([[5.07,3.92],\n",
        "                           [3.0,1.05],\n",
        "                           [1.99,0.44]])\n",
        "\n",
        "# ground truth: known true values for time\n",
        "# essentially these are: (speed_data[:,1] - speed_data[:,0]) / -0.4\n",
        "brake_time = torch.tensor([[2.8750], [4.8750], [3.8750]])\n"
      ],
      "execution_count": null,
      "outputs": []
    },
    {
      "cell_type": "code",
      "metadata": {
        "id": "1624Pob5Qzr6"
      },
      "source": [
        "# loss function\n",
        "loss = nn.MSELoss()\n",
        "\n",
        "# optimiser\n",
        "optimiser = torch.optim.SGD(model.parameters(), lr=0.01)\n"
      ],
      "execution_count": null,
      "outputs": []
    },
    {
      "cell_type": "code",
      "metadata": {
        "id": "HDCu8QtEJBzn"
      },
      "source": [
        "model.train()\n",
        "# we are going to change epoch count\n",
        "epochs = 1000\n",
        "for i in range (0, epochs): # epochs\n",
        "  # iterate over each row in dataset\n",
        "  for j in range (0, speed_data.shape[0]):\n",
        "    # clear the gradients\n",
        "    optimiser.zero_grad()\n",
        "    # our batch size is one, we feed in 1 example at the time to observe the change\n",
        "    # in real applications, batch size is higher\n",
        "\n",
        "    output = model(speed_data[j])\n",
        "\n",
        "    iter_loss = loss(output, brake_time[j])\n",
        "\n",
        "    #print(\"LOSS\", iter_loss)\n",
        "\n",
        "    # compute gradients\n",
        "    iter_loss.backward()\n",
        "\n",
        "    # update model parameters\n",
        "    optimiser.step()\n",
        "\n",
        "\n",
        "\n"
      ],
      "execution_count": null,
      "outputs": []
    },
    {
      "cell_type": "code",
      "source": [
        "for i in range(speed_data.shape[0]):\n",
        "  print(model(speed_data[i]),brake_time[i])\n",
        "\n"
      ],
      "metadata": {
        "colab": {
          "base_uri": "https://localhost:8080/"
        },
        "id": "Vae5FB-jtJwE",
        "outputId": "60f29a29-f710-43ce-a0e2-f584372b5672"
      },
      "execution_count": null,
      "outputs": [
        {
          "output_type": "stream",
          "name": "stdout",
          "text": [
            "tensor([2.8750], grad_fn=<ViewBackward0>) tensor([2.8750])\n",
            "tensor([4.8750], grad_fn=<ViewBackward0>) tensor([4.8750])\n",
            "tensor([3.8750], grad_fn=<ViewBackward0>) tensor([3.8750])\n"
          ]
        }
      ]
    },
    {
      "cell_type": "code",
      "source": [
        "out = model(torch.tensor([2.0, 5.0]))\n",
        "gt = (5 - 1) / -0.4\n",
        "print(out, gt)\n"
      ],
      "metadata": {
        "colab": {
          "base_uri": "https://localhost:8080/"
        },
        "id": "NhIlXZsTv9Jx",
        "outputId": "60a016ff-2908-4c91-ca94-1dee0afb351f"
      },
      "execution_count": null,
      "outputs": [
        {
          "output_type": "stream",
          "name": "stdout",
          "text": [
            "tensor([1.9709], grad_fn=<ViewBackward0>) -10.0\n"
          ]
        }
      ]
    },
    {
      "cell_type": "code",
      "source": [],
      "metadata": {
        "id": "xGvuFZ_aZSG3"
      },
      "execution_count": null,
      "outputs": []
    },
    {
      "cell_type": "markdown",
      "metadata": {
        "id": "VvjZ_PkoKTGQ"
      },
      "source": [
        "# TODO: Write the validation code!"
      ]
    }
  ]
}